{
 "cells": [
  {
   "cell_type": "markdown",
   "metadata": {},
   "source": [
    "# Building our own GPT"
   ]
  },
  {
   "cell_type": "markdown",
   "metadata": {},
   "source": [
    "A Dutch variation on the companion notebook to the [Zero To Hero](https://karpathy.ai/zero-to-hero.html) video on GPT."
   ]
  },
  {
   "cell_type": "code",
   "execution_count": 1,
   "metadata": {},
   "outputs": [],
   "source": [
    "# read it in to inspect it\n",
    "with open('./ted_dutch_mono.nl', 'r', encoding='utf-8') as f:\n",
    "    text = f.read()"
   ]
  },
  {
   "cell_type": "code",
   "execution_count": 2,
   "metadata": {},
   "outputs": [
    {
     "name": "stdout",
     "output_type": "stream",
     "text": [
      "length of dataset in characters:  16834509\n"
     ]
    }
   ],
   "source": [
    "print(\"length of dataset in characters: \", len(text))"
   ]
  },
  {
   "cell_type": "code",
   "execution_count": 3,
   "metadata": {},
   "outputs": [
    {
     "name": "stdout",
     "output_type": "stream",
     "text": [
      "Voor mij begint dit verhaal ongeveer 15 jaar geleden,\n",
      "toen ik een hospitaaldokter was aan de 'University of Chicago'.\n",
      "Ik zorgde voor stervende mensen en hun families\n",
      "in het zuiden van Chicago.\n",
      "Ik observeerde wat er gebeurde met deze mensen en hun families\n",
      "gedurende het verloop van hun terminale ziekte.\n",
      "In mijn lab bestudeerde ik het weduwnaareffect,\n",
      "een heel oud begrip in de sociale wetenschappen,\n",
      "dat 150 jaar terug gaat\n",
      "en bekend staat als 'sterven aan een gebroken hart'.\n",
      "Wanneer ik sterf, verdubbelt het risico dat mijn vrouw sterft\n",
      "in het eerste jaar.\n",
      "Ik begon te zorgen voor een bepaalde patiënte,\n",
      "een vrouw die leed aan dementie.\n",
      "In dit geval werd ze,\n",
      "in tegenstelling tot dit koppel,\n",
      "verzorgd door haar dochter.\n",
      "De dochter was uitgeput door het zorgen voor haar moeder.\n",
      "De echtgenoot van de dochter\n",
      "was ook ziek\n",
      "door de uitputting van zijn vrouw.\n",
      "Op een dag, toen ik naar huis reed,\n",
      "kreeg ik een telefoontje van een vriend van de echtgenoot.\n",
      "Hij belde me omdat hij gedeprimeerd was\n",
      "door wa\n"
     ]
    }
   ],
   "source": [
    "# let's look at the first 1000 characters\n",
    "print(text[:1000])"
   ]
  },
  {
   "cell_type": "code",
   "execution_count": 4,
   "metadata": {},
   "outputs": [
    {
     "name": "stdout",
     "output_type": "stream",
     "text": [
      "\t\n",
      " !\"#$%&'()*+,-./0123456789:;<=>?@ABCDEFGHIJKLMNOPQRSTUVWXYZ[\\]^`abcdefghijklmnopqrstuvwxyz~£¨©°±²´º¼½¾ÁÉÏÒÓÖÜàáâãäåçèéêëìíîïñòóöùúûüāćėň˚ยรอ่​–—‘’“”…€™♪♫﻿\n",
      "163\n"
     ]
    }
   ],
   "source": [
    "# here are all the unique characters that occur in this text\n",
    "chars = sorted(list(set(text)))\n",
    "vocab_size = len(chars)\n",
    "print(''.join(chars))\n",
    "print(vocab_size)"
   ]
  },
  {
   "cell_type": "code",
   "execution_count": 10,
   "metadata": {},
   "outputs": [
    {
     "name": "stdout",
     "output_type": "stream",
     "text": [
      "[42, 80, 70, 2, 72, 66, 66, 85, 2, 73, 70, 85, 33]\n",
      "Hoe gaat het?\n"
     ]
    }
   ],
   "source": [
    "# create a mapping from characters to integers\n",
    "stoi = { ch:i for i,ch in enumerate(chars) }\n",
    "itos = { i:ch for i,ch in enumerate(chars) }\n",
    "encode = lambda s: [stoi[c] for c in s] # encoder: take a string, output a list of integers\n",
    "decode = lambda l: ''.join([itos[i] for i in l]) # decoder: take a list of integers, output a string\n",
    "\n",
    "print(encode(\"Hoe gaat het?\"))\n",
    "print(decode(encode(\"Hoe gaat het?\")))"
   ]
  },
  {
   "cell_type": "code",
   "execution_count": 6,
   "metadata": {},
   "outputs": [
    {
     "name": "stdout",
     "output_type": "stream",
     "text": [
      "torch.Size([16834509]) torch.int64\n",
      "tensor([ 56,  80,  80,  83,   2,  78,  74,  75,   2,  67,  70,  72,  74,  79,\n",
      "         85,   2,  69,  74,  85,   2,  87,  70,  83,  73,  66,  66,  77,   2,\n",
      "         80,  79,  72,  70,  87,  70,  70,  83,   2,  19,  23,   2,  75,  66,\n",
      "         66,  83,   2,  72,  70,  77,  70,  69,  70,  79,  14,   1,  85,  80,\n",
      "         70,  79,   2,  74,  76,   2,  70,  70,  79,   2,  73,  80,  84,  81,\n",
      "         74,  85,  66,  66,  77,  69,  80,  76,  85,  70,  83,   2,  88,  66,\n",
      "         84,   2,  66,  66,  79,   2,  69,  70,   2,   9,  55,  79,  74,  87,\n",
      "         70,  83,  84,  74,  85,  90,   2,  80,  71,   2,  37,  73,  74,  68,\n",
      "         66,  72,  80,   9,  16,   1,  43,  76,   2,  91,  80,  83,  72,  69,\n",
      "         70,   2,  87,  80,  80,  83,   2,  84,  85,  70,  83,  87,  70,  79,\n",
      "         69,  70,   2,  78,  70,  79,  84,  70,  79,   2,  70,  79,   2,  73,\n",
      "         86,  79,   2,  71,  66,  78,  74,  77,  74,  70,  84,   1,  74,  79,\n",
      "          2,  73,  70,  85,   2,  91,  86,  74,  69,  70,  79,   2,  87,  66,\n",
      "         79,   2,  37,  73,  74,  68,  66,  72,  80,  16,   1,  43,  76,   2,\n",
      "         80,  67,  84,  70,  83,  87,  70,  70,  83,  69,  70,   2,  88,  66,\n",
      "         85,   2,  70,  83,   2,  72,  70,  67,  70,  86,  83,  69,  70,   2,\n",
      "         78,  70,  85,   2,  69,  70,  91,  70,   2,  78,  70,  79,  84,  70,\n",
      "         79,   2,  70,  79,   2,  73,  86,  79,   2,  71,  66,  78,  74,  77,\n",
      "         74,  70,  84,   1,  72,  70,  69,  86,  83,  70,  79,  69,  70,   2,\n",
      "         73,  70,  85,   2,  87,  70,  83,  77,  80,  80,  81,   2,  87,  66,\n",
      "         79,   2,  73,  86,  79,   2,  85,  70,  83,  78,  74,  79,  66,  77,\n",
      "         70,   2,  91,  74,  70,  76,  85,  70,  16,   1,  43,  79,   2,  78,\n",
      "         74,  75,  79,   2,  77,  66,  67,   2,  67,  70,  84,  85,  86,  69,\n",
      "         70,  70,  83,  69,  70,   2,  74,  76,   2,  73,  70,  85,   2,  88,\n",
      "         70,  69,  86,  88,  79,  66,  66,  83,  70,  71,  71,  70,  68,  85,\n",
      "         14,   1,  70,  70,  79,   2,  73,  70,  70,  77,   2,  80,  86,  69,\n",
      "          2,  67,  70,  72,  83,  74,  81,   2,  74,  79,   2,  69,  70,   2,\n",
      "         84,  80,  68,  74,  66,  77,  70,   2,  88,  70,  85,  70,  79,  84,\n",
      "         68,  73,  66,  81,  81,  70,  79,  14,   1,  69,  66,  85,   2,  19,\n",
      "         23,  18,   2,  75,  66,  66,  83,   2,  85,  70,  83,  86,  72,   2,\n",
      "         72,  66,  66,  85,   1,  70,  79,   2,  67,  70,  76,  70,  79,  69,\n",
      "          2,  84,  85,  66,  66,  85,   2,  66,  77,  84,   2,   9,  84,  85,\n",
      "         70,  83,  87,  70,  79,   2,  66,  66,  79,   2,  70,  70,  79,   2,\n",
      "         72,  70,  67,  83,  80,  76,  70,  79,   2,  73,  66,  83,  85,   9,\n",
      "         16,   1,  57,  66,  79,  79,  70,  70,  83,   2,  74,  76,   2,  84,\n",
      "         85,  70,  83,  71,  14,   2,  87,  70,  83,  69,  86,  67,  67,  70,\n",
      "         77,  85,   2,  73,  70,  85,   2,  83,  74,  84,  74,  68,  80,   2,\n",
      "         69,  66,  85,   2,  78,  74,  75,  79,   2,  87,  83,  80,  86,  88,\n",
      "          2,  84,  85,  70,  83,  71,  85,   1,  74,  79,   2,  73,  70,  85,\n",
      "          2,  70,  70,  83,  84,  85,  70,   2,  75,  66,  66,  83,  16,   1,\n",
      "         43,  76,   2,  67,  70,  72,  80,  79,   2,  85,  70,   2,  91,  80,\n",
      "         83,  72,  70,  79,   2,  87,  80,  80,  83,   2,  70,  70,  79,   2,\n",
      "         67,  70,  81,  66,  66,  77,  69,  70,   2,  81,  66,  85,  74, 128,\n",
      "         79,  85,  70,  14,   1,  70,  70,  79,   2,  87,  83,  80,  86,  88,\n",
      "          2,  69,  74,  70,   2,  77,  70,  70,  69,   2,  66,  66,  79,   2,\n",
      "         69,  70,  78,  70,  79,  85,  74,  70,  16,   1,  43,  79,   2,  69,\n",
      "         74,  85,   2,  72,  70,  87,  66,  77,   2,  88,  70,  83,  69,   2,\n",
      "         91,  70,  14,   1,  74,  79,   2,  85,  70,  72,  70,  79,  84,  85,\n",
      "         70,  77,  77,  74,  79,  72,   2,  85,  80,  85,   2,  69,  74,  85,\n",
      "          2,  76,  80,  81,  81,  70,  77,  14,   1,  87,  70,  83,  91,  80,\n",
      "         83,  72,  69,   2,  69,  80,  80,  83,   2,  73,  66,  66,  83,   2,\n",
      "         69,  80,  68,  73,  85,  70,  83,  16,   1,  38,  70,   2,  69,  80,\n",
      "         68,  73,  85,  70,  83,   2,  88,  66,  84,   2,  86,  74,  85,  72,\n",
      "         70,  81,  86,  85,   2,  69,  80,  80,  83,   2,  73,  70,  85,   2,\n",
      "         91,  80,  83,  72,  70,  79,   2,  87,  80,  80,  83,   2,  73,  66,\n",
      "         66,  83,   2,  78,  80,  70,  69,  70,  83,  16,   1,  38,  70,   2,\n",
      "         70,  68,  73,  85,  72,  70,  79,  80,  80,  85,   2,  87,  66,  79,\n",
      "          2,  69,  70,   2,  69,  80,  68,  73,  85,  70,  83,   1,  88,  66,\n",
      "         84,   2,  80,  80,  76,   2,  91,  74,  70,  76,   1,  69,  80,  80,\n",
      "         83,   2,  69,  70,   2,  86,  74,  85,  81,  86,  85,  85,  74,  79,\n",
      "         72,   2,  87,  66,  79,   2,  91,  74,  75,  79,   2,  87,  83,  80,\n",
      "         86,  88,  16,   1,  49,  81,   2,  70,  70,  79,   2,  69,  66,  72,\n",
      "         14,   2,  85,  80,  70,  79,   2,  74,  76,   2,  79,  66,  66,  83,\n",
      "          2,  73,  86,  74,  84,   2,  83,  70,  70,  69,  14,   1,  76,  83,\n",
      "         70,  70,  72,   2,  74,  76,   2,  70,  70,  79,   2,  85,  70,  77,\n",
      "         70,  71,  80,  80,  79,  85,  75,  70,   2,  87,  66,  79,   2,  70,\n",
      "         70,  79,   2,  87,  83,  74,  70,  79,  69,   2,  87,  66,  79,   2,\n",
      "         69,  70,   2,  70,  68,  73,  85,  72,  70,  79,  80,  80,  85,  16,\n",
      "          1,  42,  74,  75,   2,  67,  70,  77,  69,  70,   2,  78,  70,   2,\n",
      "         80,  78,  69,  66,  85,   2,  73,  74,  75,   2,  72,  70,  69,  70,\n",
      "         81,  83,  74,  78,  70,  70,  83,  69,   2,  88,  66,  84,   1,  69,\n",
      "         80,  80,  83,   2,  88,  66])\n"
     ]
    }
   ],
   "source": [
    "# let's now encode the entire text dataset and store it into a torch.Tensor\n",
    "import torch # we use PyTorch: https://pytorch.org\n",
    "data = torch.tensor(encode(text), dtype=torch.long)\n",
    "print(data.shape, data.dtype)\n",
    "print(data[:1000]) # the 1000 characters we looked at earier will to the GPT look like this"
   ]
  },
  {
   "cell_type": "code",
   "execution_count": 8,
   "metadata": {},
   "outputs": [],
   "source": [
    "# Let's now split up the data into train and validation sets\n",
    "n = int(0.9*len(data)) # first 90% will be train, rest val\n",
    "train_data = data[:n]\n",
    "val_data = data[n:]"
   ]
  },
  {
   "cell_type": "code",
   "execution_count": 11,
   "metadata": {},
   "outputs": [
    {
     "data": {
      "text/plain": [
       "tensor([56, 80, 80, 83,  2, 78, 74, 75,  2])"
      ]
     },
     "execution_count": 11,
     "metadata": {},
     "output_type": "execute_result"
    }
   ],
   "source": [
    "block_size = 8\n",
    "train_data[:block_size+1]"
   ]
  },
  {
   "cell_type": "code",
   "execution_count": 12,
   "metadata": {},
   "outputs": [
    {
     "name": "stdout",
     "output_type": "stream",
     "text": [
      "when input is tensor([56]) the target: 80\n",
      "when input is tensor([56, 80]) the target: 80\n",
      "when input is tensor([56, 80, 80]) the target: 83\n",
      "when input is tensor([56, 80, 80, 83]) the target: 2\n",
      "when input is tensor([56, 80, 80, 83,  2]) the target: 78\n",
      "when input is tensor([56, 80, 80, 83,  2, 78]) the target: 74\n",
      "when input is tensor([56, 80, 80, 83,  2, 78, 74]) the target: 75\n",
      "when input is tensor([56, 80, 80, 83,  2, 78, 74, 75]) the target: 2\n"
     ]
    }
   ],
   "source": [
    "x = train_data[:block_size]\n",
    "y = train_data[1:block_size+1]\n",
    "for t in range(block_size):\n",
    "    context = x[:t+1]\n",
    "    target = y[t]\n",
    "    print(f\"when input is {context} the target: {target}\")"
   ]
  },
  {
   "cell_type": "code",
   "execution_count": 13,
   "metadata": {},
   "outputs": [
    {
     "name": "stdout",
     "output_type": "stream",
     "text": [
      "inputs:\n",
      "torch.Size([4, 8])\n",
      "tensor([[ 2, 87, 66, 79,  2, 70, 70, 79],\n",
      "        [80, 83, 69, 70, 79, 16,  1, 42],\n",
      "        [78,  2, 69, 70,  2, 88, 74, 79],\n",
      "        [74, 68, 66, 85, 74, 70, 15, 80]])\n",
      "targets:\n",
      "torch.Size([4, 8])\n",
      "tensor([[87, 66, 79,  2, 70, 70, 79,  2],\n",
      "        [83, 69, 70, 79, 16,  1, 42, 74],\n",
      "        [ 2, 69, 70,  2, 88, 74, 79, 84],\n",
      "        [68, 66, 85, 74, 70, 15, 80, 78]])\n",
      "----\n",
      "when input is [2] the target: 87\n",
      "when input is [2, 87] the target: 66\n",
      "when input is [2, 87, 66] the target: 79\n",
      "when input is [2, 87, 66, 79] the target: 2\n",
      "when input is [2, 87, 66, 79, 2] the target: 70\n",
      "when input is [2, 87, 66, 79, 2, 70] the target: 70\n",
      "when input is [2, 87, 66, 79, 2, 70, 70] the target: 79\n",
      "when input is [2, 87, 66, 79, 2, 70, 70, 79] the target: 2\n",
      "when input is [80] the target: 83\n",
      "when input is [80, 83] the target: 69\n",
      "when input is [80, 83, 69] the target: 70\n",
      "when input is [80, 83, 69, 70] the target: 79\n",
      "when input is [80, 83, 69, 70, 79] the target: 16\n",
      "when input is [80, 83, 69, 70, 79, 16] the target: 1\n",
      "when input is [80, 83, 69, 70, 79, 16, 1] the target: 42\n",
      "when input is [80, 83, 69, 70, 79, 16, 1, 42] the target: 74\n",
      "when input is [78] the target: 2\n",
      "when input is [78, 2] the target: 69\n",
      "when input is [78, 2, 69] the target: 70\n",
      "when input is [78, 2, 69, 70] the target: 2\n",
      "when input is [78, 2, 69, 70, 2] the target: 88\n",
      "when input is [78, 2, 69, 70, 2, 88] the target: 74\n",
      "when input is [78, 2, 69, 70, 2, 88, 74] the target: 79\n",
      "when input is [78, 2, 69, 70, 2, 88, 74, 79] the target: 84\n",
      "when input is [74] the target: 68\n",
      "when input is [74, 68] the target: 66\n",
      "when input is [74, 68, 66] the target: 85\n",
      "when input is [74, 68, 66, 85] the target: 74\n",
      "when input is [74, 68, 66, 85, 74] the target: 70\n",
      "when input is [74, 68, 66, 85, 74, 70] the target: 15\n",
      "when input is [74, 68, 66, 85, 74, 70, 15] the target: 80\n",
      "when input is [74, 68, 66, 85, 74, 70, 15, 80] the target: 78\n"
     ]
    }
   ],
   "source": [
    "torch.manual_seed(1337)\n",
    "batch_size = 4 # how many independent sequences will we process in parallel?\n",
    "block_size = 8 # what is the maximum context length for predictions?\n",
    "\n",
    "def get_batch(split):\n",
    "    # generate a small batch of data of inputs x and targets y\n",
    "    data = train_data if split == 'train' else val_data\n",
    "    ix = torch.randint(len(data) - block_size, (batch_size,))\n",
    "    x = torch.stack([data[i:i+block_size] for i in ix])\n",
    "    y = torch.stack([data[i+1:i+block_size+1] for i in ix])\n",
    "    return x, y\n",
    "\n",
    "xb, yb = get_batch('train')\n",
    "print('inputs:')\n",
    "print(xb.shape)\n",
    "print(xb)\n",
    "print('targets:')\n",
    "print(yb.shape)\n",
    "print(yb)\n",
    "\n",
    "print('----')\n",
    "\n",
    "for b in range(batch_size): # batch dimension\n",
    "    for t in range(block_size): # time dimension\n",
    "        context = xb[b, :t+1]\n",
    "        target = yb[b,t]\n",
    "        print(f\"when input is {context.tolist()} the target: {target}\")"
   ]
  },
  {
   "cell_type": "code",
   "execution_count": 14,
   "metadata": {},
   "outputs": [
    {
     "name": "stdout",
     "output_type": "stream",
     "text": [
      "tensor([[ 2, 87, 66, 79,  2, 70, 70, 79],\n",
      "        [80, 83, 69, 70, 79, 16,  1, 42],\n",
      "        [78,  2, 69, 70,  2, 88, 74, 79],\n",
      "        [74, 68, 66, 85, 74, 70, 15, 80]])\n"
     ]
    }
   ],
   "source": [
    "print(xb) # our input to the transformer"
   ]
  },
  {
   "cell_type": "code",
   "execution_count": 16,
   "metadata": {},
   "outputs": [
    {
     "name": "stdout",
     "output_type": "stream",
     "text": [
      "torch.Size([32, 163])\n",
      "tensor(5.3625, grad_fn=<NllLossBackward0>)\n",
      "\t+>²£?ç♪dBéuò2lIė6AÜ9\\$èá9î+āy;9p-`NTćย;d‘4AófxL$1♫2£567​—kÖê:uÖÏ\\SsvCmïüytÒF\tPöÖe9 L;<7=ch♫n5¨B\n"
     ]
    }
   ],
   "source": [
    "import torch\n",
    "import torch.nn as nn\n",
    "from torch.nn import functional as F\n",
    "torch.manual_seed(1337)\n",
    "\n",
    "class BigramLanguageModel(nn.Module):\n",
    "\n",
    "    def __init__(self, vocab_size):\n",
    "        super().__init__()\n",
    "        # each token directly reads off the logits for the next token from a lookup table\n",
    "        self.token_embedding_table = nn.Embedding(vocab_size, vocab_size)\n",
    "\n",
    "    def forward(self, idx, targets=None):\n",
    "\n",
    "        # idx and targets are both (B,T) tensor of integers\n",
    "        logits = self.token_embedding_table(idx) # (B,T,C)\n",
    "\n",
    "        if targets is None:\n",
    "            loss = None\n",
    "        else:\n",
    "            B, T, C = logits.shape\n",
    "            logits = logits.view(B*T, C)\n",
    "            targets = targets.view(B*T)\n",
    "            loss = F.cross_entropy(logits, targets)\n",
    "\n",
    "        return logits, loss\n",
    "\n",
    "    def generate(self, idx, max_new_tokens):\n",
    "        # idx is (B, T) array of indices in the current context\n",
    "        for _ in range(max_new_tokens):\n",
    "            # get the predictions\n",
    "            logits, loss = self(idx)\n",
    "            # focus only on the last time step\n",
    "            logits = logits[:, -1, :] # becomes (B, C)\n",
    "            # apply softmax to get probabilities\n",
    "            probs = F.softmax(logits, dim=-1) # (B, C)\n",
    "            # sample from the distribution\n",
    "            idx_next = torch.multinomial(probs, num_samples=1) # (B, 1)\n",
    "            # append sampled index to the running sequence\n",
    "            idx = torch.cat((idx, idx_next), dim=1) # (B, T+1)\n",
    "        return idx\n",
    "\n",
    "m = BigramLanguageModel(vocab_size)\n",
    "logits, loss = m(xb, yb)\n",
    "print(logits.shape)\n",
    "print(loss)\n",
    "\n",
    "print(decode(m.generate(idx = torch.zeros((1, 1), dtype=torch.long), max_new_tokens=100)[0].tolist()))\n"
   ]
  },
  {
   "cell_type": "code",
   "execution_count": 17,
   "metadata": {},
   "outputs": [],
   "source": [
    "# create a PyTorch optimizer\n",
    "optimizer = torch.optim.AdamW(m.parameters(), lr=1e-3)"
   ]
  },
  {
   "cell_type": "code",
   "execution_count": 18,
   "metadata": {},
   "outputs": [
    {
     "name": "stdout",
     "output_type": "stream",
     "text": [
      "5.293283462524414\n"
     ]
    }
   ],
   "source": [
    "batch_size = 32\n",
    "for steps in range(100): # increase number of steps for good results...\n",
    "\n",
    "    # sample a batch of data\n",
    "    xb, yb = get_batch('train')\n",
    "\n",
    "    # evaluate the loss\n",
    "    logits, loss = m(xb, yb)\n",
    "    optimizer.zero_grad(set_to_none=True)\n",
    "    loss.backward()\n",
    "    optimizer.step()\n",
    "\n",
    "print(loss.item())\n"
   ]
  },
  {
   "cell_type": "code",
   "execution_count": 19,
   "metadata": {},
   "outputs": [
    {
     "name": "stdout",
     "output_type": "stream",
     "text": [
      "\tS9,ä5d´bÁél6…<á=1@óL) â^ëÏX.äxJvj’ï4Aë!Á—ÏUtcí['M♫…€F<7L>îuOYåX@ÏC\\♫naU*vÉîMNúòâ=Réû]ò;½£ëF]Dnéò£uåö—rC—i่v&©íWjÖ™♫ร<íkL$KR´4 GäZP]f;ùsãïwé,!rR\n",
      "♪¨T˚ïo€=Ï’JRc-¾Öà€x´?(sEóÖx\t½4*D​\t½A;û5´êÓV%ç\té,!Mí#],‘O–ňå0Byň±xnohOP==g>tcdMH=&ìย?ćâXX—=Bíอ˚í><~R:~Òºy2l˚7!ü&:J‘P923@moñ/y/ö-“V7=EY/eSÏ&²ºWtE5-¨ïėEw﻿'ãÜF±OYåėėย©+\n",
      "ãhMòò`Wüîj±)c่#♫`X>♪PS©W8Vtkjîñ&ÒäÉ3Tåอûè…päñ,1ñ²ยîP2 ÁSú>s/sìm#)½—Rx\t=c9.8z$LėPåoNSQàR6j±¨ย°.﻿7X​dèň“TOgH£“úêÒÁć¼\"Ö.sykÒyèîsr6Gc#]ö½m¾O*Hj$y;b.U¨‘ûāNk0±òIoº)yā£♫2M;+a˚jÜ)\n"
     ]
    }
   ],
   "source": [
    "print(decode(m.generate(idx = torch.zeros((1, 1), dtype=torch.long), max_new_tokens=500)[0].tolist()))"
   ]
  },
  {
   "cell_type": "code",
   "execution_count": 20,
   "metadata": {},
   "outputs": [
    {
     "name": "stdout",
     "output_type": "stream",
     "text": [
      "a=\n",
      "tensor([[1.0000, 0.0000, 0.0000],\n",
      "        [0.5000, 0.5000, 0.0000],\n",
      "        [0.3333, 0.3333, 0.3333]])\n",
      "--\n",
      "b=\n",
      "tensor([[2., 7.],\n",
      "        [6., 4.],\n",
      "        [6., 5.]])\n",
      "--\n",
      "c=\n",
      "tensor([[2.0000, 7.0000],\n",
      "        [4.0000, 5.5000],\n",
      "        [4.6667, 5.3333]])\n"
     ]
    }
   ],
   "source": [
    "# toy example illustrating how matrix multiplication can be used for a \"weighted aggregation\"\n",
    "torch.manual_seed(42)\n",
    "a = torch.tril(torch.ones(3, 3))\n",
    "a = a / torch.sum(a, 1, keepdim=True)\n",
    "b = torch.randint(0,10,(3,2)).float()\n",
    "c = a @ b\n",
    "print('a=')\n",
    "print(a)\n",
    "print('--')\n",
    "print('b=')\n",
    "print(b)\n",
    "print('--')\n",
    "print('c=')\n",
    "print(c)"
   ]
  },
  {
   "cell_type": "code",
   "execution_count": 21,
   "metadata": {},
   "outputs": [
    {
     "data": {
      "text/plain": [
       "torch.Size([4, 8, 2])"
      ]
     },
     "execution_count": 21,
     "metadata": {},
     "output_type": "execute_result"
    }
   ],
   "source": [
    "# consider the following toy example:\n",
    "\n",
    "torch.manual_seed(1337)\n",
    "B,T,C = 4,8,2 # batch, time, channels\n",
    "x = torch.randn(B,T,C)\n",
    "x.shape"
   ]
  },
  {
   "cell_type": "code",
   "execution_count": 22,
   "metadata": {},
   "outputs": [],
   "source": [
    "# We want x[b,t] = mean_{i<=t} x[b,i]\n",
    "xbow = torch.zeros((B,T,C))\n",
    "for b in range(B):\n",
    "    for t in range(T):\n",
    "        xprev = x[b,:t+1] # (t,C)\n",
    "        xbow[b,t] = torch.mean(xprev, 0)\n"
   ]
  },
  {
   "cell_type": "code",
   "execution_count": 23,
   "metadata": {},
   "outputs": [
    {
     "data": {
      "text/plain": [
       "True"
      ]
     },
     "execution_count": 23,
     "metadata": {},
     "output_type": "execute_result"
    }
   ],
   "source": [
    "# version 2: using matrix multiply for a weighted aggregation\n",
    "wei = torch.tril(torch.ones(T, T))\n",
    "wei = wei / wei.sum(1, keepdim=True)\n",
    "xbow2 = wei @ x # (B, T, T) @ (B, T, C) ----> (B, T, C)\n",
    "torch.allclose(xbow, xbow2)"
   ]
  },
  {
   "cell_type": "code",
   "execution_count": 24,
   "metadata": {},
   "outputs": [
    {
     "data": {
      "text/plain": [
       "True"
      ]
     },
     "execution_count": 24,
     "metadata": {},
     "output_type": "execute_result"
    }
   ],
   "source": [
    "# version 2: using matrix multiply for a weighted aggregation\n",
    "wei = torch.tril(torch.ones(T, T))\n",
    "wei = wei / wei.sum(1, keepdim=True)\n",
    "xbow2 = wei @ x # (B, T, T) @ (B, T, C) ----> (B, T, C)\n",
    "torch.allclose(xbow, xbow2)"
   ]
  },
  {
   "cell_type": "code",
   "execution_count": 25,
   "metadata": {},
   "outputs": [
    {
     "data": {
      "text/plain": [
       "torch.Size([4, 8, 16])"
      ]
     },
     "execution_count": 25,
     "metadata": {},
     "output_type": "execute_result"
    }
   ],
   "source": [
    "# version 4: self-attention!\n",
    "torch.manual_seed(1337)\n",
    "B,T,C = 4,8,32 # batch, time, channels\n",
    "x = torch.randn(B,T,C)\n",
    "\n",
    "# let's see a single Head perform self-attention\n",
    "head_size = 16\n",
    "key = nn.Linear(C, head_size, bias=False)\n",
    "query = nn.Linear(C, head_size, bias=False)\n",
    "value = nn.Linear(C, head_size, bias=False)\n",
    "k = key(x)   # (B, T, 16)\n",
    "q = query(x) # (B, T, 16)\n",
    "wei =  q @ k.transpose(-2, -1) # (B, T, 16) @ (B, 16, T) ---> (B, T, T)\n",
    "\n",
    "tril = torch.tril(torch.ones(T, T))\n",
    "#wei = torch.zeros((T,T))\n",
    "wei = wei.masked_fill(tril == 0, float('-inf'))\n",
    "wei = F.softmax(wei, dim=-1)\n",
    "\n",
    "v = value(x)\n",
    "out = wei @ v\n",
    "#out = wei @ x\n",
    "\n",
    "out.shape"
   ]
  },
  {
   "cell_type": "code",
   "execution_count": 26,
   "metadata": {},
   "outputs": [
    {
     "data": {
      "text/plain": [
       "tensor([[1.0000, 0.0000, 0.0000, 0.0000, 0.0000, 0.0000, 0.0000, 0.0000],\n",
       "        [0.1574, 0.8426, 0.0000, 0.0000, 0.0000, 0.0000, 0.0000, 0.0000],\n",
       "        [0.2088, 0.1646, 0.6266, 0.0000, 0.0000, 0.0000, 0.0000, 0.0000],\n",
       "        [0.5792, 0.1187, 0.1889, 0.1131, 0.0000, 0.0000, 0.0000, 0.0000],\n",
       "        [0.0294, 0.1052, 0.0469, 0.0276, 0.7909, 0.0000, 0.0000, 0.0000],\n",
       "        [0.0176, 0.2689, 0.0215, 0.0089, 0.6812, 0.0019, 0.0000, 0.0000],\n",
       "        [0.1691, 0.4066, 0.0438, 0.0416, 0.1048, 0.2012, 0.0329, 0.0000],\n",
       "        [0.0210, 0.0843, 0.0555, 0.2297, 0.0573, 0.0709, 0.2423, 0.2391]],\n",
       "       grad_fn=<SelectBackward0>)"
      ]
     },
     "execution_count": 26,
     "metadata": {},
     "output_type": "execute_result"
    }
   ],
   "source": [
    "wei[0]"
   ]
  },
  {
   "cell_type": "markdown",
   "metadata": {},
   "source": [
    "Notes:\n",
    "\n",
    "- Attention is a communication mechanism. Can be seen as nodes in a directed graph looking at each other and aggregating information with a weighted sum from all nodes that point to them, with data-dependent weights.\n",
    "- There is no notion of space. Attention simply acts over a set of vectors. This is why we need to positionally encode tokens.\n",
    "- Each example across batch dimension is of course processed completely independently and never \"talk\" to each other \n",
    "- In an \"encoder\" attention block just delete the single line that does masking with tril, allowing all tokens to communicate. This block here is called a \"decoder\" attention block because it has triangular masking, and is usually used in autoregressive settings, like language modeling.\n",
    "- \"self-attention\" just means that the keys and values are produced from the same source as queries. In \"cross-attention\", the queries still get produced from x, but the keys and values come from some other, external source (e.g. an encoder module)\n",
    "- \"Scaled\" attention additional divides wei by 1/sqrt(head_size). This makes it so when input Q,K are unit variance, wei will be unit variance too and Softmax will stay diffuse and not saturate too much. Illustration below"
   ]
  },
  {
   "cell_type": "code",
   "execution_count": 27,
   "metadata": {},
   "outputs": [],
   "source": [
    "k = torch.randn(B,T,head_size)\n",
    "q = torch.randn(B,T,head_size)\n",
    "wei = q @ k.transpose(-2, -1) * head_size**-0.5"
   ]
  },
  {
   "cell_type": "code",
   "execution_count": 28,
   "metadata": {},
   "outputs": [
    {
     "data": {
      "text/plain": [
       "tensor(1.0449)"
      ]
     },
     "execution_count": 28,
     "metadata": {},
     "output_type": "execute_result"
    }
   ],
   "source": [
    "k.var()"
   ]
  },
  {
   "cell_type": "code",
   "execution_count": 29,
   "metadata": {},
   "outputs": [
    {
     "data": {
      "text/plain": [
       "tensor(1.0700)"
      ]
     },
     "execution_count": 29,
     "metadata": {},
     "output_type": "execute_result"
    }
   ],
   "source": [
    "q.var()"
   ]
  },
  {
   "cell_type": "code",
   "execution_count": 30,
   "metadata": {},
   "outputs": [
    {
     "data": {
      "text/plain": [
       "tensor(1.0918)"
      ]
     },
     "execution_count": 30,
     "metadata": {},
     "output_type": "execute_result"
    }
   ],
   "source": [
    "wei.var()"
   ]
  },
  {
   "cell_type": "code",
   "execution_count": 31,
   "metadata": {},
   "outputs": [
    {
     "data": {
      "text/plain": [
       "tensor([0.1925, 0.1426, 0.2351, 0.1426, 0.2872])"
      ]
     },
     "execution_count": 31,
     "metadata": {},
     "output_type": "execute_result"
    }
   ],
   "source": [
    "torch.softmax(torch.tensor([0.1, -0.2, 0.3, -0.2, 0.5]), dim=-1)"
   ]
  },
  {
   "cell_type": "code",
   "execution_count": 32,
   "metadata": {},
   "outputs": [
    {
     "data": {
      "text/plain": [
       "tensor([0.0326, 0.0030, 0.1615, 0.0030, 0.8000])"
      ]
     },
     "execution_count": 32,
     "metadata": {},
     "output_type": "execute_result"
    }
   ],
   "source": [
    "torch.softmax(torch.tensor([0.1, -0.2, 0.3, -0.2, 0.5])*8, dim=-1) # gets too peaky, converges to one-hot"
   ]
  },
  {
   "cell_type": "code",
   "execution_count": 33,
   "metadata": {},
   "outputs": [
    {
     "data": {
      "text/plain": [
       "torch.Size([32, 100])"
      ]
     },
     "execution_count": 33,
     "metadata": {},
     "output_type": "execute_result"
    }
   ],
   "source": [
    "class LayerNorm1d: # (used to be BatchNorm1d)\n",
    "\n",
    "  def __init__(self, dim, eps=1e-5, momentum=0.1):\n",
    "    self.eps = eps\n",
    "    self.gamma = torch.ones(dim)\n",
    "    self.beta = torch.zeros(dim)\n",
    "\n",
    "  def __call__(self, x):\n",
    "    # calculate the forward pass\n",
    "    xmean = x.mean(1, keepdim=True) # batch mean\n",
    "    xvar = x.var(1, keepdim=True) # batch variance\n",
    "    xhat = (x - xmean) / torch.sqrt(xvar + self.eps) # normalize to unit variance\n",
    "    self.out = self.gamma * xhat + self.beta\n",
    "    return self.out\n",
    "\n",
    "  def parameters(self):\n",
    "    return [self.gamma, self.beta]\n",
    "\n",
    "torch.manual_seed(1337)\n",
    "module = LayerNorm1d(100)\n",
    "x = torch.randn(32, 100) # batch size 32 of 100-dimensional vectors\n",
    "x = module(x)\n",
    "x.shape"
   ]
  },
  {
   "cell_type": "code",
   "execution_count": 34,
   "metadata": {},
   "outputs": [
    {
     "data": {
      "text/plain": [
       "(tensor(0.1469), tensor(0.8803))"
      ]
     },
     "execution_count": 34,
     "metadata": {},
     "output_type": "execute_result"
    }
   ],
   "source": [
    "x[:,0].mean(), x[:,0].std() # mean,std of one feature across all batch inputs"
   ]
  },
  {
   "cell_type": "code",
   "execution_count": 35,
   "metadata": {},
   "outputs": [
    {
     "data": {
      "text/plain": [
       "(tensor(-9.5367e-09), tensor(1.0000))"
      ]
     },
     "execution_count": 35,
     "metadata": {},
     "output_type": "execute_result"
    }
   ],
   "source": [
    "x[0,:].mean(), x[0,:].std() # mean,std of a single input from the batch, of its features"
   ]
  },
  {
   "cell_type": "code",
   "execution_count": 37,
   "metadata": {},
   "outputs": [
    {
     "name": "stdout",
     "output_type": "stream",
     "text": [
      "0.222371 M parameters\n",
      "step 0: train loss 5.2415, val loss 5.2443\n",
      "step 100: train loss 2.5942, val loss 2.5906\n",
      "step 200: train loss 2.4523, val loss 2.4567\n",
      "step 300: train loss 2.3835, val loss 2.3827\n",
      "step 400: train loss 2.3231, val loss 2.3103\n",
      "step 500: train loss 2.2455, val loss 2.2337\n",
      "step 600: train loss 2.1922, val loss 2.1790\n",
      "step 700: train loss 2.1500, val loss 2.1517\n",
      "step 800: train loss 2.1154, val loss 2.1071\n",
      "step 900: train loss 2.0760, val loss 2.0654\n",
      "step 1000: train loss 2.0545, val loss 2.0461\n",
      "step 1100: train loss 2.0120, val loss 2.0184\n",
      "step 1200: train loss 2.0129, val loss 2.0024\n",
      "step 1300: train loss 1.9820, val loss 1.9652\n",
      "step 1400: train loss 1.9832, val loss 1.9686\n",
      "step 1500: train loss 1.9558, val loss 1.9355\n",
      "step 1600: train loss 1.9403, val loss 1.9237\n",
      "step 1700: train loss 1.9129, val loss 1.9123\n",
      "step 1800: train loss 1.9187, val loss 1.9082\n",
      "step 1900: train loss 1.9043, val loss 1.8973\n",
      "step 2000: train loss 1.8731, val loss 1.8848\n",
      "step 2100: train loss 1.8729, val loss 1.8584\n",
      "step 2200: train loss 1.8596, val loss 1.8541\n",
      "step 2300: train loss 1.8412, val loss 1.8370\n",
      "step 2400: train loss 1.8530, val loss 1.8482\n",
      "step 2500: train loss 1.8266, val loss 1.8247\n",
      "step 2600: train loss 1.8345, val loss 1.8190\n",
      "step 2700: train loss 1.8104, val loss 1.8099\n",
      "step 2800: train loss 1.7908, val loss 1.8036\n",
      "step 2900: train loss 1.7934, val loss 1.8048\n",
      "step 3000: train loss 1.8053, val loss 1.8007\n",
      "step 3100: train loss 1.7851, val loss 1.7954\n",
      "step 3200: train loss 1.7849, val loss 1.7891\n",
      "step 3300: train loss 1.7757, val loss 1.7755\n",
      "step 3400: train loss 1.7716, val loss 1.7601\n",
      "step 3500: train loss 1.7419, val loss 1.7700\n",
      "step 3600: train loss 1.7625, val loss 1.7532\n",
      "step 3700: train loss 1.7610, val loss 1.7466\n",
      "step 3800: train loss 1.7557, val loss 1.7526\n",
      "step 3900: train loss 1.7441, val loss 1.7378\n",
      "step 4000: train loss 1.7408, val loss 1.7425\n",
      "step 4100: train loss 1.7241, val loss 1.7317\n",
      "step 4200: train loss 1.7192, val loss 1.7259\n",
      "step 4300: train loss 1.7093, val loss 1.7255\n",
      "step 4400: train loss 1.7121, val loss 1.7217\n",
      "step 4500: train loss 1.7084, val loss 1.7047\n",
      "step 4600: train loss 1.7099, val loss 1.7108\n",
      "step 4700: train loss 1.7100, val loss 1.7043\n",
      "step 4800: train loss 1.7072, val loss 1.7067\n",
      "step 4900: train loss 1.6896, val loss 1.6940\n",
      "step 4999: train loss 1.6882, val loss 1.6960\n",
      "\twde 17usma en we beste pla-moedering.\n",
      "Ondbewuiten onze peronen\n",
      "om dat was een reamering dat ruiden het,\n",
      "op ik gader zeggelog.\n",
      "Als laat woor een edemichtje\n",
      "bij een hadden?\n",
      "En wat het groot\n",
      "en een stuurt er probk de kringthebbele even zich.\n",
      "Wat is of de dingevaluit.\n",
      "En goeven saan niet een tal van het al.\n",
      "Een gebruikt ziet ervoorr.\n",
      "Arngen onze -: TDus.\n",
      "Ik Alligisch we af de ik zijd ik een ontses,\n",
      "en inzieke akste de ymatie.\n",
      "We uit bren.\n",
      "Bij oor een in erhoop maan balvoor zou aanderet, voollar voor de afvriehe in bichte ak manier.\n",
      "Het verken? ♫\n",
      "♫ Ze massaëlen.\n",
      "Dit je gelogen die medingen opunt een parobutieuw,\n",
      "met erhand wat het zij je ook ben,\n",
      "en ongelijkeu,\n",
      "wat de bons te van de realijk.\n",
      "Of je veel je een matjelie een conth uit die\n",
      "uit om niet mij het in een neur van het --\n",
      "erg en op de lang \n",
      "bouw om leg te verschellen.\n",
      "Tzien blijk er namen dan ook stopbacht\n",
      "uit ton de komenen Gedopron.\n",
      "Hij ik wolgen dat de snel werkt.\n",
      "En zijn het lang er is fancdelijke hebben.\n",
      "Eiglag winde maar weet in als op dat\n",
      "je het staturs we dorm.\n",
      "Het ik u gewaat een beweten vaak zeer reggelijk gehaol dit jarmee kweken \n",
      "was die dukken van de doe luchtaal binner aan voor er tuineers.\n",
      "De Yechoolsgen wat elinci deze mensen\n",
      "en om natuuris.\n",
      "Ik er ses el \n",
      "kan jlliet \n",
      "weze door mijijn om begint en het je,\n",
      "zoekte gezouwen om al cenyn',\n",
      "en dat voor anderen mijt ik es handen mensen dingen\n",
      "en veel zouden\n",
      "is hom kleiner af slissul netweed,\n",
      "walde vermodigelijk.\"\n",
      "Ik dat opasjulie veoor ergeleden dat jullijk heb je lution ter vroouw.\n",
      "Ik heb ervale naar jaar\n",
      "et hougde cuultiër viarend kaar moeste en,\n",
      "om alles maar we te loofgemig.\n",
      "Wannet stopen zoals,\n",
      "dat is nu nieuw biett zou het een mocië, een in De maar splaarheid\n",
      "niet een book deed dat om een van erwiren.\n",
      "Neaok al pfampomkom is.\n",
      "Leen er heleid een jaren uitere denken.\n",
      "Dus een jr, een vrie doen.\n",
      "Ik er een volktoou ze in de problemen.\n",
      "Orbrtheid in kunnen een projectieit.\"\n",
      "Iedeel eergeenkaak jaar van de kamers.\n",
      "Muiter too moe.\n",
      "Als je kanweg ij over 6.000 jaa\n"
     ]
    }
   ],
   "source": [
    "import torch\n",
    "import torch.nn as nn\n",
    "from torch.nn import functional as F\n",
    "\n",
    "# hyperparameters\n",
    "batch_size = 16 # how many independent sequences will we process in parallel?\n",
    "block_size = 32 # what is the maximum context length for predictions?\n",
    "max_iters = 5000\n",
    "eval_interval = 100\n",
    "learning_rate = 1e-3\n",
    "device = 'cuda' if torch.cuda.is_available() else 'cpu'\n",
    "eval_iters = 200\n",
    "n_embd = 64\n",
    "n_head = 4\n",
    "n_layer = 4\n",
    "dropout = 0.0\n",
    "# ------------\n",
    "\n",
    "torch.manual_seed(1337)\n",
    "\n",
    "# wget https://raw.githubusercontent.com/karpathy/char-rnn/master/data/tinyshakespeare/input.txt\n",
    "with open('ted_dutch_mono.nl', 'r', encoding='utf-8') as f:\n",
    "    text = f.read()\n",
    "\n",
    "# here are all the unique characters that occur in this text\n",
    "chars = sorted(list(set(text)))\n",
    "vocab_size = len(chars)\n",
    "# create a mapping from characters to integers\n",
    "stoi = { ch:i for i,ch in enumerate(chars) }\n",
    "itos = { i:ch for i,ch in enumerate(chars) }\n",
    "encode = lambda s: [stoi[c] for c in s] # encoder: take a string, output a list of integers\n",
    "decode = lambda l: ''.join([itos[i] for i in l]) # decoder: take a list of integers, output a string\n",
    "\n",
    "# Train and test splits\n",
    "data = torch.tensor(encode(text), dtype=torch.long)\n",
    "n = int(0.9*len(data)) # first 90% will be train, rest val\n",
    "train_data = data[:n]\n",
    "val_data = data[n:]\n",
    "\n",
    "# data loading\n",
    "def get_batch(split):\n",
    "    # generate a small batch of data of inputs x and targets y\n",
    "    data = train_data if split == 'train' else val_data\n",
    "    ix = torch.randint(len(data) - block_size, (batch_size,))\n",
    "    x = torch.stack([data[i:i+block_size] for i in ix])\n",
    "    y = torch.stack([data[i+1:i+block_size+1] for i in ix])\n",
    "    x, y = x.to(device), y.to(device)\n",
    "    return x, y\n",
    "\n",
    "@torch.no_grad()\n",
    "def estimate_loss():\n",
    "    out = {}\n",
    "    model.eval()\n",
    "    for split in ['train', 'val']:\n",
    "        losses = torch.zeros(eval_iters)\n",
    "        for k in range(eval_iters):\n",
    "            X, Y = get_batch(split)\n",
    "            logits, loss = model(X, Y)\n",
    "            losses[k] = loss.item()\n",
    "        out[split] = losses.mean()\n",
    "    model.train()\n",
    "    return out\n",
    "\n",
    "class Head(nn.Module):\n",
    "    \"\"\" one head of self-attention \"\"\"\n",
    "\n",
    "    def __init__(self, head_size):\n",
    "        super().__init__()\n",
    "        self.key = nn.Linear(n_embd, head_size, bias=False)\n",
    "        self.query = nn.Linear(n_embd, head_size, bias=False)\n",
    "        self.value = nn.Linear(n_embd, head_size, bias=False)\n",
    "        self.register_buffer('tril', torch.tril(torch.ones(block_size, block_size)))\n",
    "\n",
    "        self.dropout = nn.Dropout(dropout)\n",
    "\n",
    "    def forward(self, x):\n",
    "        B,T,C = x.shape\n",
    "        k = self.key(x)   # (B,T,C)\n",
    "        q = self.query(x) # (B,T,C)\n",
    "        # compute attention scores (\"affinities\")\n",
    "        wei = q @ k.transpose(-2,-1) * C**-0.5 # (B, T, C) @ (B, C, T) -> (B, T, T)\n",
    "        wei = wei.masked_fill(self.tril[:T, :T] == 0, float('-inf')) # (B, T, T)\n",
    "        wei = F.softmax(wei, dim=-1) # (B, T, T)\n",
    "        wei = self.dropout(wei)\n",
    "        # perform the weighted aggregation of the values\n",
    "        v = self.value(x) # (B,T,C)\n",
    "        out = wei @ v # (B, T, T) @ (B, T, C) -> (B, T, C)\n",
    "        return out\n",
    "\n",
    "class MultiHeadAttention(nn.Module):\n",
    "    \"\"\" multiple heads of self-attention in parallel \"\"\"\n",
    "\n",
    "    def __init__(self, num_heads, head_size):\n",
    "        super().__init__()\n",
    "        self.heads = nn.ModuleList([Head(head_size) for _ in range(num_heads)])\n",
    "        self.proj = nn.Linear(n_embd, n_embd)\n",
    "        self.dropout = nn.Dropout(dropout)\n",
    "\n",
    "    def forward(self, x):\n",
    "        out = torch.cat([h(x) for h in self.heads], dim=-1)\n",
    "        out = self.dropout(self.proj(out))\n",
    "        return out\n",
    "\n",
    "class FeedFoward(nn.Module):\n",
    "    \"\"\" a simple linear layer followed by a non-linearity \"\"\"\n",
    "\n",
    "    def __init__(self, n_embd):\n",
    "        super().__init__()\n",
    "        self.net = nn.Sequential(\n",
    "            nn.Linear(n_embd, 4 * n_embd),\n",
    "            nn.ReLU(),\n",
    "            nn.Linear(4 * n_embd, n_embd),\n",
    "            nn.Dropout(dropout),\n",
    "        )\n",
    "\n",
    "    def forward(self, x):\n",
    "        return self.net(x)\n",
    "\n",
    "class Block(nn.Module):\n",
    "    \"\"\" Transformer block: communication followed by computation \"\"\"\n",
    "\n",
    "    def __init__(self, n_embd, n_head):\n",
    "        # n_embd: embedding dimension, n_head: the number of heads we'd like\n",
    "        super().__init__()\n",
    "        head_size = n_embd // n_head\n",
    "        self.sa = MultiHeadAttention(n_head, head_size)\n",
    "        self.ffwd = FeedFoward(n_embd)\n",
    "        self.ln1 = nn.LayerNorm(n_embd)\n",
    "        self.ln2 = nn.LayerNorm(n_embd)\n",
    "\n",
    "    def forward(self, x):\n",
    "        x = x + self.sa(self.ln1(x))\n",
    "        x = x + self.ffwd(self.ln2(x))\n",
    "        return x\n",
    "\n",
    "# super simple bigram model\n",
    "class BigramLanguageModel(nn.Module):\n",
    "\n",
    "    def __init__(self):\n",
    "        super().__init__()\n",
    "        # each token directly reads off the logits for the next token from a lookup table\n",
    "        self.token_embedding_table = nn.Embedding(vocab_size, n_embd)\n",
    "        self.position_embedding_table = nn.Embedding(block_size, n_embd)\n",
    "        self.blocks = nn.Sequential(*[Block(n_embd, n_head=n_head) for _ in range(n_layer)])\n",
    "        self.ln_f = nn.LayerNorm(n_embd) # final layer norm\n",
    "        self.lm_head = nn.Linear(n_embd, vocab_size)\n",
    "\n",
    "    def forward(self, idx, targets=None):\n",
    "        B, T = idx.shape\n",
    "\n",
    "        # idx and targets are both (B,T) tensor of integers\n",
    "        tok_emb = self.token_embedding_table(idx) # (B,T,C)\n",
    "        pos_emb = self.position_embedding_table(torch.arange(T, device=device)) # (T,C)\n",
    "        x = tok_emb + pos_emb # (B,T,C)\n",
    "        x = self.blocks(x) # (B,T,C)\n",
    "        x = self.ln_f(x) # (B,T,C)\n",
    "        logits = self.lm_head(x) # (B,T,vocab_size)\n",
    "\n",
    "        if targets is None:\n",
    "            loss = None\n",
    "        else:\n",
    "            B, T, C = logits.shape\n",
    "            logits = logits.view(B*T, C)\n",
    "            targets = targets.view(B*T)\n",
    "            loss = F.cross_entropy(logits, targets)\n",
    "\n",
    "        return logits, loss\n",
    "\n",
    "    def generate(self, idx, max_new_tokens):\n",
    "        # idx is (B, T) array of indices in the current context\n",
    "        for _ in range(max_new_tokens):\n",
    "            # crop idx to the last block_size tokens\n",
    "            idx_cond = idx[:, -block_size:]\n",
    "            # get the predictions\n",
    "            logits, loss = self(idx_cond)\n",
    "            # focus only on the last time step\n",
    "            logits = logits[:, -1, :] # becomes (B, C)\n",
    "            # apply softmax to get probabilities\n",
    "            probs = F.softmax(logits, dim=-1) # (B, C)\n",
    "            # sample from the distribution\n",
    "            idx_next = torch.multinomial(probs, num_samples=1) # (B, 1)\n",
    "            # append sampled index to the running sequence\n",
    "            idx = torch.cat((idx, idx_next), dim=1) # (B, T+1)\n",
    "        return idx\n",
    "\n",
    "model = BigramLanguageModel()\n",
    "m = model.to(device)\n",
    "# print the number of parameters in the model\n",
    "print(sum(p.numel() for p in m.parameters())/1e6, 'M parameters')\n",
    "\n",
    "# create a PyTorch optimizer\n",
    "optimizer = torch.optim.AdamW(model.parameters(), lr=learning_rate)\n",
    "\n",
    "for iter in range(max_iters):\n",
    "\n",
    "    # every once in a while evaluate the loss on train and val sets\n",
    "    if iter % eval_interval == 0 or iter == max_iters - 1:\n",
    "        losses = estimate_loss()\n",
    "        print(f\"step {iter}: train loss {losses['train']:.4f}, val loss {losses['val']:.4f}\")\n",
    "\n",
    "    # sample a batch of data\n",
    "    xb, yb = get_batch('train')\n",
    "\n",
    "    # evaluate the loss\n",
    "    logits, loss = model(xb, yb)\n",
    "    optimizer.zero_grad(set_to_none=True)\n",
    "    loss.backward()\n",
    "    optimizer.step()\n",
    "\n",
    "# generate from the model\n",
    "context = torch.zeros((1, 1), dtype=torch.long, device=device)\n",
    "print(decode(m.generate(context, max_new_tokens=2000)[0].tolist()))\n"
   ]
  },
  {
   "cell_type": "code",
   "execution_count": null,
   "metadata": {},
   "outputs": [],
   "source": []
  }
 ],
 "metadata": {
  "kernelspec": {
   "display_name": ".venv",
   "language": "python",
   "name": "python3"
  },
  "language_info": {
   "codemirror_mode": {
    "name": "ipython",
    "version": 3
   },
   "file_extension": ".py",
   "mimetype": "text/x-python",
   "name": "python",
   "nbconvert_exporter": "python",
   "pygments_lexer": "ipython3",
   "version": "3.11.9"
  }
 },
 "nbformat": 4,
 "nbformat_minor": 2
}
